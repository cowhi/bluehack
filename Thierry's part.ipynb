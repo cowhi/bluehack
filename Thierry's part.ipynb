{
 "cells": [
  {
   "cell_type": "code",
   "execution_count": 16,
   "metadata": {
    "collapsed": true
   },
   "outputs": [],
   "source": [
    "import json\n",
    "from collections import Counter\n",
    "\n",
    "%matplotlib inline\n",
    "import matplotlib.pyplot as plt"
   ]
  },
  {
   "cell_type": "code",
   "execution_count": 1,
   "metadata": {
    "collapsed": false
   },
   "outputs": [
    {
     "name": "stdout",
     "output_type": "stream",
     "text": [
      "{\"reviewerID\": \"A1N4O8VOJZTDVB\", \"asin\": \"B004A9SDD8\", \"reviewerName\": \"Annette Yancey\", \"helpful\": [1, 1], \"reviewText\": \"Loves the song, so he really couldn't wait to play this. A little less interesting for him so he doesn't play long, but he is almost 3 and likes to play the older games, but really cute for a younger child.\", \"overall\": 3.0, \"summary\": \"Really cute\", \"unixReviewTime\": 1383350400, \"reviewTime\": \"11 2, 2013\"}\n",
      "\n",
      "{u'reviewerID': u'A1N4O8VOJZTDVB', u'asin': u'B004A9SDD8', u'reviewerName': u'Annette Yancey', u'helpful': [1, 1], u'reviewText': u\"Loves the song, so he really couldn't wait to play this. A little less interesting for him so he doesn't play long, but he is almost 3 and likes to play the older games, but really cute for a younger child.\", u'overall': 3.0, u'summary': u'Really cute', u'unixReviewTime': 1383350400, u'reviewTime': u'11 2, 2013'}\n",
      "[u'reviewerID', u'asin', u'reviewerName', u'helpful', u'reviewText', u'overall', u'summary', u'unixReviewTime', u'reviewTime']\n",
      "87271\n",
      "[(u'A1X1CEGHTHMBL1', 565), (u'ACX8G3IW95BNE', 513), (u'A2C05OHYJERICI', 469), (u'A3F3B6HY9RJI04', 467), (u'A1VM5Y6BL07X9X', 338), (u'A1E1LEVQ9VQNK', 327), (u'ASXYFYCPIP232', 322), (u'A2YAUX8C73PN43', 288), (u'AVVK3WYO1TRZO', 259), (u'A17KRI7HC6NF69', 254)]\n",
      "54\n",
      "3464\n",
      "16199\n"
     ]
    }
   ],
   "source": [
    "\n",
    "f = open(\"reviews_Apps_for_Android_5.json\")\n",
    "line = f.readline()\n",
    "\n",
    "# Field in json for each review\n",
    "print j.keys()\n",
    "#[u'reviewerID', u'asin', u'reviewerName', u'helpful', u'reviewText', u'overall', u'summary', u'unixReviewTime', u'reviewTime']\n",
    "\n",
    "# Get a count of review for each customer\n",
    "c = Counter()\n",
    "c[ j[\"reviewerID\"] ] += 1\n",
    "for line in f:\n",
    "    j = json.loads(line)\n",
    "    c[ j[\"reviewerID\"] ] += 1\n",
    "\n",
    "f.close()\n",
    "\n",
    "# Number of unique customer\n",
    "print len(c)\n",
    "# 87271\n",
    "\n",
    "print c.most_common(10)\n",
    "# [(u'A1X1CEGHTHMBL1', 565), (u'ACX8G3IW95BNE', 513), (u'A2C05OHYJERICI', 469), (u'A3F3B6HY9RJI04', 467), (u'A1VM5Y6BL07X9X', 338), (u'A1E1LEVQ9VQNK', 327), (u'ASXYFYCPIP232', 322), (u'A2YAUX8C73PN43', 288), (u'AVVK3WYO1TRZO', 259), (u'A17KRI7HC6NF69', 254)]\n",
    "\n",
    "# Check how much ID have more than X reviews\n",
    "print sum( 1 for key, value in c.items() if value > 100 )\n",
    "# 54\n",
    "print sum( 1 for key, value in c.items() if value > 20 )\n",
    "# 3464\n",
    "print sum( 1 for key, value in c.items() if value > 10 )\n",
    "# 16199\n",
    "\n",
    "ID_10plus = [ key for key, value in c.items() if value > 10 ]"
   ]
  },
  {
   "cell_type": "code",
   "execution_count": 7,
   "metadata": {
    "collapsed": false
   },
   "outputs": [],
   "source": [
    "# Get infos for customer with names\n",
    "set_ID = { key for key, value in c.items() if value > 10 }\n",
    "f = open(\"reviews_Apps_for_Android_5.json\")\n",
    "\n",
    "d = {}\n",
    "for i, line in enumerate(f):\n",
    "    j = json.loads(line)\n",
    "    try:\n",
    "        if j[\"reviewerID\"] in set_ID:\n",
    "            d[ j[\"reviewerID\"] ] = j[\"reviewerName\"]\n",
    "    except:\n",
    "        pass\n",
    "f.close()"
   ]
  },
  {
   "cell_type": "code",
   "execution_count": 8,
   "metadata": {
    "collapsed": false
   },
   "outputs": [
    {
     "name": "stdout",
     "output_type": "stream",
     "text": [
      "16199\n"
     ]
    }
   ],
   "source": [
    "print len(d)"
   ]
  },
  {
   "cell_type": "code",
   "execution_count": 9,
   "metadata": {
    "collapsed": false
   },
   "outputs": [
    {
     "data": {
      "text/plain": [
       "[(u'A3FSPSSTLOD4VU', u'Kindle Fire Reader'),\n",
       " (u'A1LTYRWPRBZ1QV', u'D. K. Dutton'),\n",
       " (u'A1XQ02SMSD2ZAZ', u'Shorty62'),\n",
       " (u'A32D7J4UVMB3Q3', u'E. Chapin'),\n",
       " (u'A2BC3CF07FS4FH', u'ginger'),\n",
       " (u'A31XRDIK9603Y0', u'Ross Lynch'),\n",
       " (u'ARVW5GNMO9QU7', u'Shari Riley'),\n",
       " (u'A3AML3Z5YGEXLO', u'pianoman'),\n",
       " (u'A2K5JJR48R9ZJ8', u'The Guy \"ahh\"'),\n",
       " (u'A20G2VM22QGXBI', u'ravin'),\n",
       " (u'A1JOPT5UUZ806E', u'MDR'),\n",
       " (u'A3GO5NEFEII582', u'Hardcoreicemoth'),\n",
       " (u'A38Z6J0VGZ1WOY', u'Jacee'),\n",
       " (u'A1DKHL1V96FQTZ', u'James Laabs \"James Laabs\"'),\n",
       " (u'A2HH19CTU47T8M', u'x man'),\n",
       " (u'AQI8LK0SX0UR8', u'Evelyn Bays'),\n",
       " (u'A3UQ8OZXR1T6VH', u'Nancy Drew &#34;Helen&#34;'),\n",
       " (u'A2VV9X8R1ERE1H', u'Amazon Customer'),\n",
       " (u'A2Y8YFXEZWW34Y', u'Gluten-free Mom'),\n",
       " (u'A3F247QGJME3LH', u'Skinny Reader \"newju52\"')]"
      ]
     },
     "execution_count": 9,
     "metadata": {},
     "output_type": "execute_result"
    }
   ],
   "source": [
    "d.items()[:20]"
   ]
  },
  {
   "cell_type": "code",
   "execution_count": 17,
   "metadata": {
    "collapsed": true
   },
   "outputs": [],
   "source": [
    "from sklearn.datasets import make_blobs\n",
    "from sklearn.preprocessing import MinMaxScaler\n",
    "\n",
    "nb_sample = len(d)\n",
    "\n",
    "X, y = make_blobs(n_samples=nb_sample, n_features=10, centers=3, random_state=42)\n",
    "\n",
    "min_max_scaler = MinMaxScaler()\n",
    "X_minmax = min_max_scaler.fit_transform(X)"
   ]
  },
  {
   "cell_type": "code",
   "execution_count": 18,
   "metadata": {
    "collapsed": false
   },
   "outputs": [
    {
     "data": {
      "text/plain": [
       "array([[ 0.08062397,  0.82813292,  0.7530661 , ...,  0.26125468,\n",
       "         0.31622426,  0.37653152],\n",
       "       [ 0.16717769,  0.92589166,  0.86192146, ...,  0.24282812,\n",
       "         0.58036913,  0.43702028],\n",
       "       [ 0.47274509,  0.91443871,  0.69223816, ...,  0.96529779,\n",
       "         0.63252173,  0.851589  ],\n",
       "       ..., \n",
       "       [ 0.81677145,  0.18222749,  0.13849421, ...,  0.34190685,\n",
       "         0.66848823,  0.1181999 ],\n",
       "       [ 0.85695624,  0.22578063,  0.19034063, ...,  0.11310294,\n",
       "         0.7882461 ,  0.13159479],\n",
       "       [ 0.7664683 ,  0.1527945 ,  0.20904611, ...,  0.20371794,\n",
       "         0.78053678,  0.22616536]])"
      ]
     },
     "execution_count": 18,
     "metadata": {},
     "output_type": "execute_result"
    }
   ],
   "source": [
    "X_minmax"
   ]
  },
  {
   "cell_type": "code",
   "execution_count": 20,
   "metadata": {
    "collapsed": false
   },
   "outputs": [],
   "source": [
    "from sklearn.manifold import TSNE\n",
    "\n",
    "model = TSNE(n_components=2, random_state=0)\n",
    "X_tsne = model.fit_transform(X_minmax) "
   ]
  },
  {
   "cell_type": "code",
   "execution_count": 22,
   "metadata": {
    "collapsed": false
   },
   "outputs": [
    {
     "data": {
      "text/plain": [
       "array([[-11.78086831,  15.97858541],\n",
       "       [ -5.10271245,  17.36703025],\n",
       "       [ 11.0042495 ,  -4.68444959],\n",
       "       ..., \n",
       "       [ -0.96333975,  -9.82837452],\n",
       "       [ -5.82337063,  -6.09561874],\n",
       "       [-13.35137498,  -8.64488728]])"
      ]
     },
     "execution_count": 22,
     "metadata": {},
     "output_type": "execute_result"
    }
   ],
   "source": [
    "X_tsne"
   ]
  },
  {
   "cell_type": "code",
   "execution_count": 23,
   "metadata": {
    "collapsed": false
   },
   "outputs": [
    {
     "data": {
      "text/plain": [
       "[<matplotlib.lines.Line2D at 0x111876650>]"
      ]
     },
     "execution_count": 23,
     "metadata": {},
     "output_type": "execute_result"
    },
    {
     "data": {
      "image/png": "[encoded data removed]",
      "text/plain": [
       "<matplotlib.figure.Figure at 0x111333610>"
      ]
     },
     "metadata": {},
     "output_type": "display_data"
    }
   ],
   "source": [
    "plt.plot(X_tsne[:,0], X_tsne[:,1], '.')"
   ]
  },
  {
   "cell_type": "code",
   "execution_count": 24,
   "metadata": {
    "collapsed": true
   },
   "outputs": [],
   "source": [
    "#most popular product:\n",
    "\n",
    "f = open(\"reviews_Apps_for_Android_5.json\")\n",
    "line = f.readline()\n",
    "\n",
    "p = Counter()\n",
    "for line in f:\n",
    "    j = json.loads(line)\n",
    "    p[ j[\"asin\"] ] += 1\n",
    "\n",
    "f.close()"
   ]
  },
  {
   "cell_type": "code",
   "execution_count": 25,
   "metadata": {
    "collapsed": false
   },
   "outputs": [
    {
     "data": {
      "text/plain": [
       "[(u'B00FAPF5U0', 6282),\n",
       " (u'B0086700CM', 4637),\n",
       " (u'B00992CF6W', 4018),\n",
       " (u'B009UX2YAC', 3814),\n",
       " (u'B0064X7B4A', 3763),\n",
       " (u'B00DJFIMW6', 3668),\n",
       " (u'B0054JZC6E', 3458),\n",
       " (u'B0063IH60K', 3440),\n",
       " (u'B005ZXWMUS', 3221),\n",
       " (u'B009HKL4B8', 3124)]"
      ]
     },
     "execution_count": 25,
     "metadata": {},
     "output_type": "execute_result"
    }
   ],
   "source": [
    "p.most_common(10)"
   ]
  },
  {
   "cell_type": "code",
   "execution_count": null,
   "metadata": {
    "collapsed": true
   },
   "outputs": [],
   "source": []
  }
 ],
 "metadata": {
  "anaconda-cloud": {},
  "kernelspec": {
   "display_name": "Python [conda root]",
   "language": "python",
   "name": "conda-root-py"
  },
  "language_info": {
   "codemirror_mode": {
    "name": "ipython",
    "version": 2
   },
   "file_extension": ".py",
   "mimetype": "text/x-python",
   "name": "python",
   "nbconvert_exporter": "python",
   "pygments_lexer": "ipython2",
   "version": "2.7.12"
  }
 },
 "nbformat": 4,
 "nbformat_minor": 1
}
