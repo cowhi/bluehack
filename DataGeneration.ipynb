{
 "cells": [
  {
   "cell_type": "code",
   "execution_count": 52,
   "metadata": {
    "collapsed": false
   },
   "outputs": [],
   "source": [
    "#from sklearn.datasets import make_blobs\n",
    "import sklearn\n",
    "#import numpy as np\n",
    "\n",
    "X, y = sklearn.datasets.make_blobs(n_samples=10, centers=10,\n",
    "                                   n_features=10, random_state=0)\n",
    "#print \"y: \", y\n",
    "#print \"X: \", X\n",
    "X_scaled = sklearn.preprocessing.MinMaxScaler().fit_transform(X)\n",
    "#print \"y: \", y\n",
    "#print \"X: \", X_scaled"
   ]
  },
  {
   "cell_type": "code",
   "execution_count": 53,
   "metadata": {
    "collapsed": false
   },
   "outputs": [
    {
     "data": {
      "text/plain": [
       "[<matplotlib.lines.Line2D at 0x115227990>]"
      ]
     },
     "execution_count": 53,
     "metadata": {},
     "output_type": "execute_result"
    },
    {
     "data": {
      "image/png": "[encoded data removed]",
      "text/plain": [
       "<matplotlib.figure.Figure at 0x1105e4d50>"
      ]
     },
     "metadata": {},
     "output_type": "display_data"
    }
   ],
   "source": [
    "%matplotlib inline\n",
    "from sklearn.manifold import TSNE\n",
    "import matplotlib.pyplot as plt\n",
    "\n",
    "model = TSNE(n_components=2, random_state=0)\n",
    "tsne = model.fit_transform(X_scaled) \n",
    "#print tsne\n",
    "plt.plot(tsne[:,0], tsne[:,1], '.')"
   ]
  },
  {
   "cell_type": "code",
   "execution_count": 55,
   "metadata": {
    "collapsed": false
   },
   "outputs": [
    {
     "data": {
      "text/plain": [
       "[<matplotlib.lines.Line2D at 0x1146a1290>]"
      ]
     },
     "execution_count": 55,
     "metadata": {},
     "output_type": "execute_result"
    },
    {
     "data": {
      "image/png": "[encoded data removed]",
      "text/plain": [
       "<matplotlib.figure.Figure at 0x11539e410>"
      ]
     },
     "metadata": {},
     "output_type": "display_data"
    }
   ],
   "source": [
    "import numpy as np\n",
    "from sklearn.neighbors import BallTree\n",
    "\n",
    "tree = BallTree(X_scaled, leaf_size=2)\n",
    "\n",
    "dist, ind = tree.query([X_scaled[0]], k=2) \n",
    "\n",
    "plt.plot(tsne[:,0], tsne[:,1], '.')\n",
    "plt.plot(tsne[ind[0],0], tsne[ind[0],1], '.', color='r')"
   ]
  },
  {
   "cell_type": "code",
   "execution_count": 59,
   "metadata": {
    "collapsed": false
   },
   "outputs": [
    {
     "name": "stdout",
     "output_type": "stream",
     "text": [
      "{\"UID\":320045,\"personality\":[0.283502558825,0.801817659327,0.0747544076824,0.666220427229,0.318682897177,0.287552044095,0.696518658114,0.0,0.771249137263,0.0]}\n",
      "{\"UID\":244657,\"personality\":[1.0,0.87228399944,0.339648211155,0.832991648491,0.0743926544074,0.995118259431,0.135075221343,0.984388065489,0.515476749887,0.514188664126]}\n",
      "{\"UID\":749280,\"personality\":[0.695245769944,0.666004526292,0.553758434624,1.0,0.114499752906,0.158497469883,0.0,1.0,0.741805774751,0.941429075347]}\n",
      "{\"UID\":119957,\"personality\":[0.297381263123,0.363388223616,0.712807834938,0.0263075696455,0.859657801927,0.894466993478,0.222474880743,0.251803512377,0.149896058208,0.40285754108]}\n",
      "{\"UID\":331294,\"personality\":[0.211130474861,0.550639870118,0.0,0.681234062184,0.68583461169,0.410513339189,0.599640417038,0.0331864278579,0.539063686477,1.0]}\n",
      "{\"UID\":167589,\"personality\":[0.0,0.0,0.656013476385,0.0761354782621,0.425748550652,0.55798201634,1.0,0.17870876324,0.725014873924,0.0717875879035]}\n",
      "{\"UID\":168086,\"personality\":[0.452557885121,0.484900343137,1.0,0.0,0.235536743364,0.257416386134,0.87620835833,0.274752955547,0.336209449333,0.19604959609]}\n",
      "{\"UID\":504375,\"personality\":[0.410928749036,0.913699081183,0.610206839481,0.418509305075,0.675871985895,1.0,0.63050264153,0.958200033354,0.912561907695,0.45828718078]}\n",
      "{\"UID\":797579,\"personality\":[0.899097933186,0.614055613467,0.98204844154,0.528125110647,1.0,0.0,0.421934377015,0.0860529365217,0.0,0.0971368863623]}\n",
      "{\"UID\":373780,\"personality\":[0.276745636719,1.0,0.357599861778,0.643438038092,0.0,0.887119761049,0.846418687755,0.665987982804,1.0,0.768817868535]}\n"
     ]
    }
   ],
   "source": []
  },
  {
   "cell_type": "code",
   "execution_count": 67,
   "metadata": {
    "collapsed": false
   },
   "outputs": [
    {
     "name": "stdout",
     "output_type": "stream",
     "text": [
      "Fava\n",
      "Debi\n"
     ]
    }
   ],
   "source": [
    "from __future__ import unicode_literals\n",
    "from os.path import abspath, join, dirname\n",
    "import random\n",
    "\n",
    "FILES = {\n",
    "    'first:male': './helper/name_gen/dist.male.first',\n",
    "    'first:female': './helper/name_gen/dist.female.first',\n",
    "    'last': './helper/name_gen/dist.all.last'\n",
    "}\n",
    "\n",
    "\n",
    "def get_name(filename):\n",
    "    selected = random.random() * 90\n",
    "    with open(filename) as name_file:\n",
    "        for line in name_file:\n",
    "            name, _, cummulative, _ = line.split()\n",
    "            if float(cummulative) > selected:\n",
    "                return name\n",
    "    return \"\"  # Return empty string if file is empty\n",
    "\n",
    "\n",
    "def get_first_name(gender=None):\n",
    "    if gender is None:\n",
    "        gender = random.choice(('male', 'female'))\n",
    "    if gender not in ('male', 'female'):\n",
    "        raise ValueError(\"Only 'male' and 'female' are supported as gender\")\n",
    "    return get_name(FILES['first:%s' % gender]).capitalize()\n",
    "\n",
    "\n",
    "def get_last_name():\n",
    "    return get_name(FILES['last']).capitalize()\n",
    "\n",
    "\n",
    "def get_full_name(gender=None):\n",
    "    return \"{0} {1}\".format(get_first_name(gender), get_last_name())"
   ]
  },
  {
   "cell_type": "code",
   "execution_count": 69,
   "metadata": {
    "collapsed": false
   },
   "outputs": [
    {
     "name": "stdout",
     "output_type": "stream",
     "text": [
      "{\"UID\":745789,\"Lastname\":\"Delara\",\"Firstname\":\"David\",\"personality\":[0.283502558825,0.801817659327,0.0747544076824,0.666220427229,0.318682897177,0.287552044095,0.696518658114,0.0,0.771249137263,0.0]}\n",
      "{\"UID\":954959,\"Lastname\":\"Whitmore\",\"Firstname\":\"Tony\",\"personality\":[1.0,0.87228399944,0.339648211155,0.832991648491,0.0743926544074,0.995118259431,0.135075221343,0.984388065489,0.515476749887,0.514188664126]}\n",
      "{\"UID\":724830,\"Lastname\":\"Phillips\",\"Firstname\":\"Evelyn\",\"personality\":[0.695245769944,0.666004526292,0.553758434624,1.0,0.114499752906,0.158497469883,0.0,1.0,0.741805774751,0.941429075347]}\n",
      "{\"UID\":217477,\"Lastname\":\"Cavazos\",\"Firstname\":\"Esther\",\"personality\":[0.297381263123,0.363388223616,0.712807834938,0.0263075696455,0.859657801927,0.894466993478,0.222474880743,0.251803512377,0.149896058208,0.40285754108]}\n",
      "{\"UID\":684667,\"Lastname\":\"Morabito\",\"Firstname\":\"Nancy\",\"personality\":[0.211130474861,0.550639870118,0.0,0.681234062184,0.68583461169,0.410513339189,0.599640417038,0.0331864278579,0.539063686477,1.0]}\n",
      "{\"UID\":770824,\"Lastname\":\"Hitz\",\"Firstname\":\"Nellie\",\"personality\":[0.0,0.0,0.656013476385,0.0761354782621,0.425748550652,0.55798201634,1.0,0.17870876324,0.725014873924,0.0717875879035]}\n",
      "{\"UID\":183628,\"Lastname\":\"Bullard\",\"Firstname\":\"Richard\",\"personality\":[0.452557885121,0.484900343137,1.0,0.0,0.235536743364,0.257416386134,0.87620835833,0.274752955547,0.336209449333,0.19604959609]}\n",
      "{\"UID\":436222,\"Lastname\":\"Ford\",\"Firstname\":\"Caroline\",\"personality\":[0.410928749036,0.913699081183,0.610206839481,0.418509305075,0.675871985895,1.0,0.63050264153,0.958200033354,0.912561907695,0.45828718078]}\n",
      "{\"UID\":352583,\"Lastname\":\"Washburn\",\"Firstname\":\"Johnny\",\"personality\":[0.899097933186,0.614055613467,0.98204844154,0.528125110647,1.0,0.0,0.421934377015,0.0860529365217,0.0,0.0971368863623]}\n",
      "{\"UID\":634913,\"Lastname\":\"Carnicelli\",\"Firstname\":\"Tanya\",\"personality\":[0.276745636719,1.0,0.357599861778,0.643438038092,0.0,0.887119761049,0.846418687755,0.665987982804,1.0,0.768817868535]}\n"
     ]
    }
   ],
   "source": [
    "import random\n",
    "import json\n",
    "\n",
    "UID_amazon = random.sample(range(100000, 999999), len(X_scaled))\n",
    "i=0\n",
    "for line in X_scaled:\n",
    "    txt = '{\"UID\":' + str(UID_amazon[i])\n",
    "    txt += ',\"Lastname\":\"' + str(get_last_name()) + '\"'\n",
    "    txt += ',\"Firstname\":\"' + str(get_first_name()) + '\"'\n",
    "    txt += ',\"personality\":['\n",
    "    for value in line:\n",
    "        txt += str(value) + ','\n",
    "    #txt += str(line) \n",
    "    txt = txt[:-1]\n",
    "    txt += ']}'\n",
    "    print txt\n",
    "    with open('./data/user/U_' + str(UID_amazon[i]) + '.json', 'w') as f:\n",
    "        f.write(txt)\n",
    "        #json.dump(txt, f)\n",
    "    i += 1"
   ]
  },
  {
   "cell_type": "code",
   "execution_count": null,
   "metadata": {
    "collapsed": true
   },
   "outputs": [],
   "source": []
  }
 ],
 "metadata": {
  "anaconda-cloud": {},
  "kernelspec": {
   "display_name": "Python [default]",
   "language": "python",
   "name": "python2"
  },
  "language_info": {
   "codemirror_mode": {
    "name": "ipython",
    "version": 2
   },
   "file_extension": ".py",
   "mimetype": "text/x-python",
   "name": "python",
   "nbconvert_exporter": "python",
   "pygments_lexer": "ipython2",
   "version": "2.7.12"
  }
 },
 "nbformat": 4,
 "nbformat_minor": 0
}
